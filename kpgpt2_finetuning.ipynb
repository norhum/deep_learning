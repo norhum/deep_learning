{
 "cells": [
  {
   "cell_type": "code",
   "execution_count": 79,
   "metadata": {},
   "outputs": [
    {
     "name": "stderr",
     "output_type": "stream",
     "text": [
      "The tokenizer class you load from this checkpoint is not the same type as the class this function is called from. It may result in unexpected tokenization. \n",
      "The tokenizer class you load from this checkpoint is 'GPT2Tokenizer'. \n",
      "The class this function is called from is 'PreTrainedTokenizerFast'.\n"
     ]
    },
    {
     "data": {
      "text/plain": [
       "('./saved_model\\\\tokenizer_config.json',\n",
       " './saved_model\\\\special_tokens_map.json',\n",
       " './saved_model\\\\tokenizer.json')"
      ]
     },
     "execution_count": 79,
     "metadata": {},
     "output_type": "execute_result"
    }
   ],
   "source": [
    "from transformers import PreTrainedTokenizerFast, GPT2LMHeadModel\n",
    "\n",
    "model = GPT2LMHeadModel.from_pretrained(\"skt/kogpt2-base-v2\")\n",
    "tokenizer = PreTrainedTokenizerFast.from_pretrained(\"skt/kogpt2-base-v2\",\n",
    "  bos_token='</s>', eos_token='</s>', unk_token='<unk>',\n",
    "  pad_token='<pad>', mask_token='<mask>')\n",
    "\n",
    "# Save the model and tokenizer to a directory\n",
    "save_directory = \"./saved_model\"  # Path where you want to save the model\n",
    "\n",
    "# Save the model weights, config, and tokenizer\n",
    "model.save_pretrained(save_directory)\n",
    "tokenizer.save_pretrained(save_directory)"
   ]
  },
  {
   "cell_type": "code",
   "execution_count": 1,
   "metadata": {},
   "outputs": [
    {
     "name": "stderr",
     "output_type": "stream",
     "text": [
      "c:\\Users\\hyoil\\miniconda3\\Lib\\site-packages\\tqdm\\auto.py:21: TqdmWarning: IProgress not found. Please update jupyter and ipywidgets. See https://ipywidgets.readthedocs.io/en/stable/user_install.html\n",
      "  from .autonotebook import tqdm as notebook_tqdm\n"
     ]
    },
    {
     "name": "stdout",
     "output_type": "stream",
     "text": [
      "GPT2LMHeadModel(\n",
      "  (transformer): GPT2Model(\n",
      "    (wte): Embedding(51200, 768)\n",
      "    (wpe): Embedding(1024, 768)\n",
      "    (drop): Dropout(p=0.1, inplace=False)\n",
      "    (h): ModuleList(\n",
      "      (0-11): 12 x GPT2Block(\n",
      "        (ln_1): LayerNorm((768,), eps=1e-05, elementwise_affine=True)\n",
      "        (attn): GPT2SdpaAttention(\n",
      "          (c_attn): Conv1D(nf=2304, nx=768)\n",
      "          (c_proj): Conv1D(nf=768, nx=768)\n",
      "          (attn_dropout): Dropout(p=0.1, inplace=False)\n",
      "          (resid_dropout): Dropout(p=0.1, inplace=False)\n",
      "        )\n",
      "        (ln_2): LayerNorm((768,), eps=1e-05, elementwise_affine=True)\n",
      "        (mlp): GPT2MLP(\n",
      "          (c_fc): Conv1D(nf=3072, nx=768)\n",
      "          (c_proj): Conv1D(nf=768, nx=3072)\n",
      "          (act): NewGELUActivation()\n",
      "          (dropout): Dropout(p=0.1, inplace=False)\n",
      "        )\n",
      "      )\n",
      "    )\n",
      "    (ln_f): LayerNorm((768,), eps=1e-05, elementwise_affine=True)\n",
      "  )\n",
      "  (lm_head): Linear(in_features=768, out_features=51200, bias=False)\n",
      ")\n"
     ]
    }
   ],
   "source": [
    "from transformers import PreTrainedTokenizerFast, GPT2LMHeadModel\n",
    "\n",
    "# Path to your saved model directory\n",
    "model_directory = r'C:\\Users\\hyoil\\Desktop\\project2\\saved_model'\n",
    "\n",
    "# Load the model and tokenizer from the local directory\n",
    "tokenizer = PreTrainedTokenizerFast.from_pretrained(model_directory,\n",
    "  bos_token='</s>', eos_token='</s>', unk_token='<unk>',\n",
    "  pad_token='<pad>', mask_token='<mask>')\n",
    "model = GPT2LMHeadModel.from_pretrained(model_directory)\n",
    "\n",
    "print(model)"
   ]
  },
  {
   "cell_type": "code",
   "execution_count": 2,
   "metadata": {},
   "outputs": [
    {
     "name": "stdout",
     "output_type": "stream",
     "text": [
      "transformer.wte.weight torch.Size([51200, 768])\n",
      "transformer.wte.weight: True\n"
     ]
    }
   ],
   "source": [
    "from torch.utils.data import Dataset, DataLoader, random_split\n",
    "from transformers import AutoTokenizer, AutoModelForCausalLM\n",
    "import torch\n",
    "\n",
    "class CustomDataset(Dataset):\n",
    "    def __init__(self, encoded_data, block_size=128):\n",
    "        self.data = encoded_data.squeeze()  # Ensure 1D tensor\n",
    "        self.block_size = block_size\n",
    "\n",
    "    def __len__(self):\n",
    "        return max(1, (len(self.data) - self.block_size) // self.block_size)\n",
    "\n",
    "    def __getitem__(self, idx):\n",
    "        start_idx = idx * self.block_size\n",
    "        input_seq = self.data[start_idx:start_idx + self.block_size]\n",
    "        target_seq = self.data[start_idx + 1:start_idx + self.block_size + 1]\n",
    "        return input_seq, target_seq\n",
    "\n",
    "# Load model and tokenizer\n",
    "model_directory = r'C:\\Users\\hyoil\\Desktop\\project2\\saved_model'\n",
    "tokenizer = AutoTokenizer.from_pretrained(model_directory)\n",
    "model = AutoModelForCausalLM.from_pretrained(model_directory)\n",
    "\n",
    "# Freeze all layers except the last two MLP layers\n",
    "for name, param in model.named_parameters():\n",
    "    if 'wte' not in name:\n",
    "        param.requires_grad = False\n",
    "    else:\n",
    "        print(name, param.shape)\n",
    "        param.requires_grad = True\n",
    "\n",
    "# Check which layers are frozen\n",
    "for name, param in model.named_parameters():\n",
    "    if param.requires_grad:\n",
    "        print(f\"{name}: {param.requires_grad}\")\n",
    "\n",
    "\n",
    "# Read and encode data\n",
    "with open(\"LunaDiary-2024.12.02 PM 11_55 (2).txt\", \"r\") as file:\n",
    "    content = file.read()\n",
    "\n",
    "enc_data = tokenizer.encode(content, return_tensors='pt')\n",
    "\n",
    "# Setup device and model\n",
    "device = torch.device(\"cuda\" if torch.cuda.is_available() else \"cpu\")\n",
    "model = model.to(device)\n",
    "model.train()  # Set to training mode\n",
    "\n",
    "dataset = CustomDataset(enc_data)  # Ensure enc_data is compatible with your CustomDataset\n",
    "\n",
    "# Split dataset into train and validation sets (e.g., 80% train, 20% validation)\n",
    "train_size = int(0.8 * len(dataset))  # 80% for training\n",
    "val_size = len(dataset) - train_size  # Remaining 20% for validation\n",
    "train_dataset, val_dataset = random_split(dataset, [train_size, val_size])\n",
    "\n",
    "# Define data loaders for train and validation\n",
    "train_loader = DataLoader(train_dataset, batch_size=4, shuffle=True)\n",
    "val_loader = DataLoader(val_dataset, batch_size=4, shuffle=False)\n",
    "\n",
    "# Optimizer\n",
    "optimizer = torch.optim.AdamW(model.parameters(), lr=5e-5)\n",
    "\n",
    "# Initialize lists to store loss values\n",
    "train_losses = []\n",
    "val_losses = []\n",
    "\n",
    "# Training loop\n",
    "epochs = 0"
   ]
  },
  {
   "cell_type": "code",
   "execution_count": 3,
   "metadata": {},
   "outputs": [
    {
     "data": {
      "text/plain": [
       "tensor(0.)"
      ]
     },
     "execution_count": 3,
     "metadata": {},
     "output_type": "execute_result"
    }
   ],
   "source": [
    "# Add dropout if not already in model\n",
    "model.config.dropout = 0.1  # Moderate dropout\n",
    "\n",
    "# Gradient clipping to prevent exploding gradients\n",
    "torch.nn.utils.clip_grad_norm_(model.parameters(), max_norm=1.0)"
   ]
  },
  {
   "cell_type": "code",
   "execution_count": 21,
   "metadata": {},
   "outputs": [
    {
     "name": "stdout",
     "output_type": "stream",
     "text": [
      "Batch 0/341, Training Loss: 6.9045538902282715\n",
      "Batch 200/341, Training Loss: 6.206752777099609\n",
      "Epoch 1, Average Training Loss: 6.623169791313909\n",
      "Epoch 1, Average Validation Loss: 7.175290235253268\n",
      "Batch 0/341, Training Loss: 5.730604648590088\n",
      "Batch 200/341, Training Loss: 6.287274360656738\n",
      "Epoch 2, Average Training Loss: 6.414636093150835\n",
      "Epoch 2, Average Validation Loss: 7.076745304950448\n",
      "Batch 0/341, Training Loss: 6.120959281921387\n",
      "Batch 200/341, Training Loss: 6.4039835929870605\n",
      "Epoch 3, Average Training Loss: 6.240010475483109\n",
      "Epoch 3, Average Validation Loss: 7.003000081971634\n",
      "Batch 0/341, Training Loss: 6.26254940032959\n",
      "Batch 200/341, Training Loss: 5.85254430770874\n",
      "Epoch 4, Average Training Loss: 6.082653820339885\n",
      "Epoch 4, Average Validation Loss: 6.949003890503285\n",
      "Batch 0/341, Training Loss: 6.145957946777344\n",
      "Batch 200/341, Training Loss: 5.917186260223389\n",
      "Epoch 5, Average Training Loss: 5.937101341762151\n",
      "Epoch 5, Average Validation Loss: 6.90647041520407\n",
      "Batch 0/341, Training Loss: 5.503442764282227\n",
      "Batch 200/341, Training Loss: 5.76582145690918\n",
      "Epoch 6, Average Training Loss: 5.806833074239692\n",
      "Epoch 6, Average Validation Loss: 6.871948025947393\n",
      "Batch 0/341, Training Loss: 5.767014980316162\n",
      "Batch 200/341, Training Loss: 5.721766948699951\n",
      "Epoch 7, Average Training Loss: 5.680790176839073\n",
      "Epoch 7, Average Validation Loss: 6.846616428951885\n",
      "Batch 0/341, Training Loss: 5.315562725067139\n",
      "Batch 200/341, Training Loss: 5.434900283813477\n",
      "Epoch 8, Average Training Loss: 5.567128038825877\n",
      "Epoch 8, Average Validation Loss: 6.825322445048842\n",
      "Batch 0/341, Training Loss: 5.702259540557861\n",
      "Batch 200/341, Training Loss: 5.598885536193848\n",
      "Epoch 9, Average Training Loss: 5.456458416152909\n",
      "Epoch 9, Average Validation Loss: 6.809943637182546\n",
      "Batch 0/341, Training Loss: 5.480704307556152\n",
      "Batch 200/341, Training Loss: 5.603297233581543\n",
      "Epoch 10, Average Training Loss: 5.3523187553428135\n",
      "Epoch 10, Average Validation Loss: 6.798981821814249\n"
     ]
    }
   ],
   "source": [
    "import matplotlib.pyplot as plt\n",
    "\n",
    "single_run = 10\n",
    "\n",
    "epochs += single_run\n",
    "\n",
    "model = model.to(device)\n",
    "for epoch in range(single_run):\n",
    "    # Training phase\n",
    "    model.train()\n",
    "    total_train_loss = 0\n",
    "    for batch_idx, (inputs, targets) in enumerate(train_loader):\n",
    "        inputs, targets = inputs.to(device), targets.to(device)\n",
    "        \n",
    "        optimizer.zero_grad()\n",
    "        \n",
    "        # Forward pass\n",
    "        outputs = model(inputs, labels=targets)\n",
    "        loss = outputs.loss\n",
    "        \n",
    "        # Backward pass and optimizer step\n",
    "        loss.backward()\n",
    "        optimizer.step()\n",
    "        \n",
    "        total_train_loss += loss.item()\n",
    "        \n",
    "        if batch_idx % 200 == 0:\n",
    "            print(f\"Batch {batch_idx}/{len(train_loader)}, Training Loss: {loss.item()}\")\n",
    "    \n",
    "    avg_train_loss = total_train_loss / len(train_loader)\n",
    "    train_losses.append(avg_train_loss)\n",
    "    print(f\"Epoch {epoch+1}, Average Training Loss: {avg_train_loss}\")\n",
    "    \n",
    "    # Validation phase\n",
    "    model.eval()\n",
    "    total_val_loss = 0\n",
    "    with torch.no_grad():\n",
    "        for inputs, targets in val_loader:\n",
    "            inputs, targets = inputs.to(device), targets.to(device)\n",
    "            \n",
    "            # Forward pass\n",
    "            outputs = model(inputs, labels=targets)\n",
    "            loss = outputs.loss\n",
    "            \n",
    "            total_val_loss += loss.item()\n",
    "    \n",
    "    avg_val_loss = total_val_loss / len(val_loader)\n",
    "    val_losses.append(avg_val_loss)\n",
    "    print(f\"Epoch {epoch+1}, Average Validation Loss: {avg_val_loss}\")"
   ]
  },
  {
   "cell_type": "code",
   "execution_count": 22,
   "metadata": {},
   "outputs": [
    {
     "data": {
      "image/png": "[encoded data removed]",
      "text/plain": [
       "<Figure size 1000x600 with 1 Axes>"
      ]
     },
     "metadata": {},
     "output_type": "display_data"
    }
   ],
   "source": [
    "# Plot training and validation losses\n",
    "plt.figure(figsize=(10, 6))\n",
    "plt.plot(range(1, epochs + 1), train_losses, label='Training Loss')\n",
    "plt.plot(range(1, epochs + 1), val_losses, label='Validation Loss', linestyle='--')\n",
    "plt.xlabel('Epochs')\n",
    "plt.ylabel('Loss')\n",
    "plt.title('Training and Validation Loss')\n",
    "plt.legend()\n",
    "plt.grid()\n",
    "plt.show()"
   ]
  },
  {
   "cell_type": "code",
   "execution_count": 25,
   "metadata": {},
   "outputs": [
    {
     "name": "stdout",
     "output_type": "stream",
     "text": [
      "나의 인생 목표는 성공이다.\n",
      "19.0\n"
     ]
    }
   ],
   "source": [
    "\n",
    "#model = GPT2LMHeadModel.from_pretrained(model_directory)\n",
    "text = '나의 인생 목표는'\n",
    "input_ids = tokenizer.encode(text, return_tensors='pt')\n",
    "model = model.to('cpu')\n",
    "gen_ids = model.generate(input_ids,\n",
    "                           max_length=8,\n",
    "                           repetition_penalty=2.0,\n",
    "                           pad_token_id=tokenizer.pad_token_id,\n",
    "                           eos_token_id=tokenizer.eos_token_id,\n",
    "                           bos_token_id=tokenizer.bos_token_id,\n",
    "                           use_cache=True)\n",
    "generated = tokenizer.decode(gen_ids[0])\n",
    "print(generated)"
   ]
  }
 ],
 "metadata": {
  "kernelspec": {
   "display_name": "base",
   "language": "python",
   "name": "python3"
  },
  "language_info": {
   "codemirror_mode": {
    "name": "ipython",
    "version": 3
   },
   "file_extension": ".py",
   "mimetype": "text/x-python",
   "name": "python",
   "nbconvert_exporter": "python",
   "pygments_lexer": "ipython3",
   "version": "3.12.3"
  }
 },
 "nbformat": 4,
 "nbformat_minor": 2
}
