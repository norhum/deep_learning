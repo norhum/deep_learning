{
  "nbformat": 4,
  "nbformat_minor": 0,
  "metadata": {
    "colab": {
      "provenance": [],
      "authorship_tag": "ABX9TyMxXQDpO0gu4ty5211a531t",
      "include_colab_link": true
    },
    "kernelspec": {
      "name": "python3",
      "display_name": "Python 3"
    },
    "language_info": {
      "name": "python"
    }
  },
  "cells": [
    {
      "cell_type": "markdown",
      "metadata": {
        "id": "view-in-github",
        "colab_type": "text"
      },
      "source": [
        "<a href=\"https://colab.research.google.com/github/norhum/deep_learning/blob/main/mini_diffusion.ipynb\" target=\"_parent\"><img src=\"https://colab.research.google.com/assets/colab-badge.svg\" alt=\"Open In Colab\"/></a>"
      ]
    },
    {
      "cell_type": "code",
      "execution_count": 1,
      "metadata": {
        "id": "367VGoQyiogO"
      },
      "outputs": [],
      "source": [
        "import torch\n",
        "import torch.nn as nn\n",
        "import torch.nn.functional as F\n",
        "\n",
        "class DiffusionModel(nn.Module):\n",
        "  def __init__(self, input_dim, hidden_dim, timesteps=100):\n",
        "    super().__init__()\n",
        "    self.fc1 = nn.Linear(input_dim, hidden_dim)\n",
        "    self.fc2 = nn.Linear(hidden_dim, input_dim)\n",
        "    self.alphas = torch.linspace(1,0,timesteps)\n",
        "    self.alphas_cumpord = torch.cumprod(self.alphas, dim=0)\n",
        "\n",
        "  def noising_process(self, x, t):\n",
        "    noise = torch.randn_like(x)\n",
        "    alpha_t = self.alphas[t]\n",
        "    return torch.sqrt(alpha_t) * x + torch.sqrt(1- alpha_t) * noise\n",
        "\n",
        "  def denoising_process(self, x_noised, t):\n",
        "    predicted_noise = self.forward(x_noised, t)\n",
        "\n",
        "    alpha_t = self.alphas[t]\n",
        "    denoised_x = denoised_x = (x_noised - torch.sqrt(1 - alpha_t) * predicted_noise) / torch.sqrt(alpha_t)\n",
        "    return denoised_x\n",
        "\n",
        "  def forward(self, x, t):\n",
        "    x_noised = self.noising_process(x, t)\n",
        "    x = F.relu(self.fc1(x))\n",
        "    x = self.fc2(x)\n",
        "    return x\n"
      ]
    },
    {
      "cell_type": "code",
      "source": [],
      "metadata": {
        "id": "q9490SPBn5vu"
      },
      "execution_count": null,
      "outputs": []
    },
    {
      "cell_type": "code",
      "source": [
        "class DiffusionModel(nn.Module):\n",
        "    def __init__(self, input_dim, hidden_dim, timesteps=100):\n",
        "        super().__init__()\n",
        "        self.timesteps = timesteps\n",
        "\n",
        "        # Time embedding\n",
        "        self.time_embed = nn.Sequential(\n",
        "            nn.Linear(1, hidden_dim),\n",
        "            nn.SiLU(),\n",
        "            nn.Linear(hidden_dim, hidden_dim)\n",
        "        )\n",
        "\n",
        "        # Main network\n",
        "        self.net = nn.Sequential(\n",
        "            nn.Linear(input_dim + hidden_dim, hidden_dim),\n",
        "            nn.ReLU(),\n",
        "            nn.Linear(hidden_dim, hidden_dim),\n",
        "            nn.ReLU(),\n",
        "            nn.Linear(hidden_dim, input_dim)\n",
        "        )\n",
        "\n",
        "        # Setup noise schedule\n",
        "        self.register_buffer('alphas', torch.linspace(1, 0.0001, timesteps))\n",
        "        self.register_buffer('alphas_cumprod', torch.cumprod(self.alphas, dim=0))\n",
        "\n",
        "    def get_time_embedding(self, t):\n",
        "        # Convert t to float and reshape\n",
        "        t_float = t.float().view(-1, 1)\n",
        "        return self.time_embed(t_float)\n",
        "\n",
        "    def forward(self, x_noisy, t):\n",
        "        # Embed time\n",
        "        t_emb = self.get_time_embedding(t)\n",
        "\n",
        "        # Expand time embedding to match batch size\n",
        "        t_emb = t_emb.repeat(x_noisy.shape[0], 1)\n",
        "\n",
        "        # Concatenate input with time embedding\n",
        "        x = torch.cat([x_noisy, t_emb], dim=1)\n",
        "\n",
        "        # Predict noise\n",
        "        return self.net(x)\n",
        "\n",
        "    def noising_process(self, x, t):\n",
        "        alpha_t = self.alphas_cumprod[t]\n",
        "        noise = torch.randn_like(x)\n",
        "        return torch.sqrt(alpha_t) * x + torch.sqrt(1 - alpha_t) * noise, noise\n",
        "\n",
        "    def denoising_process(self, x_noised, t):\n",
        "        predicted_noise = self.forward(x_noised, t)\n",
        "        alpha_t = self.alphas_cumprod[t]\n",
        "\n",
        "        denoised_x = (x_noised - torch.sqrt(1 - alpha_t) * predicted_noise) / torch.sqrt(alpha_t)\n",
        "        return denoised_x\n",
        "\n"
      ],
      "metadata": {
        "id": "Qz83krSRnZVA"
      },
      "execution_count": null,
      "outputs": []
    }
  ]
}