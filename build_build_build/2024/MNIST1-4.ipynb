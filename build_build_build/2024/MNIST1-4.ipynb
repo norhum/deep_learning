{
  "nbformat": 4,
  "nbformat_minor": 0,
  "metadata": {
    "colab": {
      "provenance": [],
      "gpuType": "T4",
      "authorship_tag": "ABX9TyMgMDfLb7rYFJSWJP4JBRnv",
      "include_colab_link": true
    },
    "kernelspec": {
      "name": "python3",
      "display_name": "Python 3"
    },
    "language_info": {
      "name": "python"
    },
    "accelerator": "GPU"
  },
  "cells": [
    {
      "cell_type": "markdown",
      "metadata": {
        "id": "view-in-github",
        "colab_type": "text"
      },
      "source": [
        "<a href=\"https://colab.research.google.com/github/norhum/deep_learning/blob/main/MNIST1-5.ipynb\" target=\"_parent\"><img src=\"https://colab.research.google.com/assets/colab-badge.svg\" alt=\"Open In Colab\"/></a>"
      ]
    },
    {
      "cell_type": "code",
      "execution_count": 2,
      "metadata": {
        "id": "nL_Sc7qemGyJ"
      },
      "outputs": [],
      "source": [
        "# import the necessary libraries\n",
        "\n",
        "import torch\n",
        "import torch.nn as nn\n",
        "import torch.optim as optim\n",
        "import torch.nn.functional as F\n",
        "\n",
        "import torchvision\n",
        "import torchvision.transforms as transforms"
      ]
    },
    {
      "cell_type": "code",
      "source": [
        "gen = torch.Generator()\n",
        "gen.manual_seed(42)\n",
        "\n",
        "# construct the MNIST dataset\n",
        "\n",
        "transform = transforms.Compose([transforms.ToTensor(), transforms.Normalize((0.1307,), (0.3081,))])\n",
        "\n",
        "trainset = torchvision.datasets.MNIST(root='./data', train=True, download=True, transform=transform)\n",
        "trainloader = torch.utils.data.DataLoader(trainset, batch_size=1024, shuffle=True, drop_last=True, generator=gen)\n",
        "\n",
        "testset = torchvision.datasets.MNIST(root='./data', train=False, download=True, transform=transform)\n",
        "testloader = torch.utils.data.DataLoader(testset, batch_size=1024, shuffle=False, drop_last=True, generator=gen)"
      ],
      "metadata": {
        "id": "iAcXrupQmjMz"
      },
      "execution_count": 50,
      "outputs": []
    },
    {
      "cell_type": "code",
      "source": [
        "# build various necessary models\n",
        "\n",
        "class SimpleNN(nn.Module):\n",
        "  def __init__(self):\n",
        "    super().__init__()\n",
        "    self.ff1 = nn.Linear(28*28, 256)\n",
        "    self.ff2 = nn.Linear(256, 10)\n",
        "\n",
        "  def forward(self, x):\n",
        "    x = x.view(-1, 28*28)\n",
        "    x = torch.relu(self.ff1(x))\n",
        "    x = self.ff2(x)\n",
        "    return x\n",
        "\n",
        "class SimpleCNN(nn.Module):\n",
        "  def __init__(self):\n",
        "    super().__init__()\n",
        "    self.cnn1 = nn.Conv2d(1, 64, (3,3), padding=1) #batch,32,28,28\n",
        "    self.pool = nn.MaxPool2d(kernel_size=2, stride=2) #batch,32,14,14\n",
        "    self.cnn2 = nn.Conv2d(64, 128, (3,3), padding=1) #batch,64,14,14\n",
        "    self.fc1 = nn.Linear(128*14*14, 256) #batch, 256\n",
        "    self.fc2 = nn.Linear(256, 10) #256, 10\n",
        "\n",
        "    self.bn1 = nn.BatchNorm2d(64)\n",
        "    self.bn2 = nn.BatchNorm2d(128)\n",
        "    self.dropout = nn.Dropout(0.5)\n",
        "\n",
        "    nn.init.xavier_normal_(self.fc1.weight, generator=gen)\n",
        "    nn.init.xavier_normal_(self.fc2.weight, generator=gen)\n",
        "\n",
        "    torch.manual_seed(gen.initial_seed())\n",
        "\n",
        "  def forward(self, x):\n",
        "    x = self.pool(F.gelu(self.bn1((self.cnn1(x)))))\n",
        "    x = F.gelu(self.bn2(self.cnn2(x)))\n",
        "    x = x.view(-1, 128*14*14)\n",
        "    x = self.dropout(F.gelu(self.fc1(x)))\n",
        "    x = self.fc2(x)\n",
        "    return x\n"
      ],
      "metadata": {
        "id": "2ugdwmsLmjft"
      },
      "execution_count": 55,
      "outputs": []
    },
    {
      "cell_type": "code",
      "source": [
        "device = torch.device('cuda' if torch.cuda.is_available() else 'cpu')\n",
        "print(f'using {device}')\n",
        "\n",
        "model = SimpleCNN()\n",
        "model = model.to(device)\n",
        "criterion = nn.CrossEntropyLoss()\n",
        "optimizer = optim.AdamW(model.parameters(), lr=3e-4)\n",
        "scheduler = optim.lr_scheduler.ExponentialLR(optimizer, gamma=0.9)\n",
        "\n",
        "print(sum(p.numel() for p in model.parameters() if p.requires_grad))"
      ],
      "metadata": {
        "id": "-dI-C-XumjjJ",
        "colab": {
          "base_uri": "https://localhost:8080/"
        },
        "outputId": "3534cb24-9434-4f9f-d26d-500d9d7c0224"
      },
      "execution_count": 56,
      "outputs": [
        {
          "output_type": "stream",
          "name": "stdout",
          "text": [
            "using cuda\n",
            "6500234\n"
          ]
        }
      ]
    },
    {
      "cell_type": "code",
      "source": [
        "# train\n",
        "import time\n",
        "\n",
        "epochs = 10\n",
        "\n",
        "\n",
        "\n",
        "for epoch in range(epochs):\n",
        "  start_time = time.time()\n",
        "  model.train()\n",
        "\n",
        "  running_loss = 0.0\n",
        "  for images, labels in trainloader:\n",
        "    images, labels = images.to(device), labels.to(device)\n",
        "    outputs = model(images)\n",
        "    loss = criterion(outputs, labels)\n",
        "\n",
        "    optimizer.zero_grad()\n",
        "    loss.backward()\n",
        "    optimizer.step()\n",
        "\n",
        "    running_loss += loss.item()\n",
        "    actual_loss = running_loss/len(trainloader)\n",
        "  scheduler.step()\n",
        "  end_time = time.time()\n",
        "  elapsed_time = end_time - start_time\n",
        "\n",
        "  print(f'Epoch: {epoch+1}, Loss: {actual_loss:.6f}, Learning Rate: {scheduler.get_last_lr()[0]:.2e}, time: {elapsed_time:.2f} seconds')\n",
        "\n",
        "#training with cpu I got\n",
        "# Epoch: 2, Loss: 0.1701388326746868, Learning Rate: 0.0002187, time: 22.8031 seconds\n",
        "# Epoch: 3, Loss: 0.14236244769804696, Learning Rate: 0.00019683, time: 24.0346 seconds\n",
        "# Epoch: 4, Loss: 0.12520508436344985, Learning Rate: 0.000177147, time: 22.7670 seconds\n",
        "# Epoch: 5, Loss: 0.11304322813549093, Learning Rate: 0.0001594323, time: 22.0178 seconds\n",
        "# Epoch: 6, Loss: 0.10449721171295026, Learning Rate: 0.00014348907, time: 22.6968 seconds\n",
        "# Epoch: 7, Loss: 0.09796476642041603, Learning Rate: 0.000129140163, time: 25.6630 seconds\n",
        "# Epoch: 8, Loss: 0.0930745871121356, Learning Rate: 0.0001162261467, time: 26.7959 seconds\n",
        "# Epoch: 9, Loss: 0.08865620274088776, Learning Rate: 0.00010460353203, time: 22.8440 seconds\n",
        "# Epoch: 10, Loss: 0.08525394566114614, Learning Rate: 9.4143178827e-05, time: 22.8985 seconds\n",
        "\n",
        "#training with gpu I got (0.2GB gpu usage)\n",
        "# Epoch: 1, Loss: 0.5424798246922335, Learning Rate: 0.00027, time: 14.8868 seconds\n",
        "# Epoch: 2, Loss: 0.2115283296021097, Learning Rate: 0.000243, time: 14.6707 seconds\n",
        "# Epoch: 3, Loss: 0.16056824648671306, Learning Rate: 0.0002187, time: 21.5765 seconds\n",
        "# Epoch: 4, Loss: 0.13215783343172316, Learning Rate: 0.00019683, time: 17.6151 seconds\n",
        "# Epoch: 5, Loss: 0.11415848696630214, Learning Rate: 0.000177147, time: 18.7395 seconds\n",
        "# Epoch: 6, Loss: 0.10268125734853548, Learning Rate: 0.0001594323, time: 16.5788 seconds\n",
        "# Epoch: 7, Loss: 0.09362162741074058, Learning Rate: 0.00014348907, time: 14.2623 seconds\n",
        "# Epoch: 8, Loss: 0.08736622443357075, Learning Rate: 0.000129140163, time: 16.5197 seconds\n",
        "# Epoch: 9, Loss: 0.08213834122435579, Learning Rate: 0.0001162261467, time: 16.5810 seconds\n",
        "# Epoch: 10, Loss: 0.0781637357737722, Learning Rate: 0.00010460353203, time: 17.3101 seconds\n",
        "\n",
        "#optimize (1.9GB gpu usage)\n",
        "# Epoch: 1, Loss: 0.312318, Learning Rate: 2.7000e-04, time: 14.6511 seconds\n",
        "# Epoch: 2, Loss: 0.078297, Learning Rate: 2.4300e-04, time: 14.4629 seconds\n",
        "# Epoch: 3, Loss: 0.049530, Learning Rate: 2.1870e-04, time: 14.5730 seconds\n",
        "# Epoch: 4, Loss: 0.037332, Learning Rate: 1.9683e-04, time: 17.5865 seconds\n",
        "# Epoch: 5, Loss: 0.027571, Learning Rate: 1.7715e-04, time: 14.5893 seconds\n",
        "# Epoch: 6, Loss: 0.022299, Learning Rate: 1.5943e-04, time: 14.3388 seconds\n",
        "# Epoch: 7, Loss: 0.017858, Learning Rate: 1.4349e-04, time: 14.5865 seconds\n",
        "# Epoch: 8, Loss: 0.014720, Learning Rate: 1.2914e-04, time: 14.5145 seconds\n",
        "# Epoch: 9, Loss: 0.011913, Learning Rate: 1.1623e-04, time: 15.0431 seconds\n",
        "# Epoch: 10, Loss: 0.010285, Learning Rate: 1.0460e-04, time: 14.3441 seconds"
      ],
      "metadata": {
        "colab": {
          "base_uri": "https://localhost:8080/"
        },
        "id": "064zmztyoctC",
        "outputId": "2a9faa57-1e51-4b9c-c7f2-f3b6f37a95e3"
      },
      "execution_count": 57,
      "outputs": [
        {
          "output_type": "stream",
          "name": "stdout",
          "text": [
            "Epoch: 1, Loss: 0.436106, Learning Rate: 2.70e-04, time: 18.61 seconds\n",
            "Epoch: 2, Loss: 0.103045, Learning Rate: 2.43e-04, time: 21.00 seconds\n",
            "Epoch: 3, Loss: 0.068443, Learning Rate: 2.19e-04, time: 16.73 seconds\n",
            "Epoch: 4, Loss: 0.051265, Learning Rate: 1.97e-04, time: 16.78 seconds\n",
            "Epoch: 5, Loss: 0.039316, Learning Rate: 1.77e-04, time: 16.41 seconds\n",
            "Epoch: 6, Loss: 0.032605, Learning Rate: 1.59e-04, time: 16.87 seconds\n",
            "Epoch: 7, Loss: 0.027582, Learning Rate: 1.43e-04, time: 16.36 seconds\n",
            "Epoch: 8, Loss: 0.024207, Learning Rate: 1.29e-04, time: 15.97 seconds\n",
            "Epoch: 9, Loss: 0.021101, Learning Rate: 1.16e-04, time: 18.05 seconds\n",
            "Epoch: 10, Loss: 0.017846, Learning Rate: 1.05e-04, time: 16.23 seconds\n"
          ]
        }
      ]
    },
    {
      "cell_type": "code",
      "source": [
        "correct = 0\n",
        "total = 0\n",
        "with torch.no_grad():\n",
        "  model.eval()\n",
        "  for images, labels in testloader:\n",
        "    images, labels = images.to(device), labels.to(device)\n",
        "    outputs = model(images)\n",
        "    _, indices = torch.max(outputs, dim=1)\n",
        "    correct += (indices == labels).sum().item()\n",
        "    total += labels.shape[0]\n",
        "\n",
        "print(f'test data accuracy: {correct/total:.4f}')\n",
        "#training with cpu I got\n",
        "#test data accuracy: 0.9744\n",
        "\n",
        "#training with gpu I got\n",
        "#test data accuracy: 0.9779\n",
        "\n",
        "#optimize\n",
        "#test data accuracy: 0.9908"
      ],
      "metadata": {
        "colab": {
          "base_uri": "https://localhost:8080/"
        },
        "id": "YcMVMxz6sqm7",
        "outputId": "c9e71c5e-bf93-4c84-ccd9-60f7715d046d"
      },
      "execution_count": 58,
      "outputs": [
        {
          "output_type": "stream",
          "name": "stdout",
          "text": [
            "test data accuracy: 0.9908\n"
          ]
        }
      ]
    },
    {
      "cell_type": "code",
      "source": [
        "import matplotlib.pyplot as plt\n",
        "\n",
        "intelligible = []\n",
        "answers = []\n",
        "model_predictions = []\n",
        "\n",
        "with torch.no_grad():\n",
        "  model.eval()\n",
        "  for images, labels in testloader:\n",
        "    images, labels = images.to(device), labels.to(device)\n",
        "    outputs = model(images)\n",
        "    _, indices = torch.max(outputs, dim=1)\n",
        "    incorrect = labels != indices\n",
        "\n",
        "    if sum(incorrect) != 0:\n",
        "      answer = labels[incorrect]\n",
        "      model_prediction = indices[incorrect]\n",
        "\n",
        "      answers.append(answer)\n",
        "      model_predictions.append(model_prediction)\n",
        "      intelligible.append(images[incorrect])\n",
        "\n",
        "intelligible = torch.cat(intelligible)\n",
        "answers = torch.cat(answers)\n",
        "model_predictions = torch.cat(model_predictions)\n",
        "\n",
        "print(intelligible.shape, answers.shape, model_predictions.shape)"
      ],
      "metadata": {
        "colab": {
          "base_uri": "https://localhost:8080/"
        },
        "id": "N9aM9Ov_37Et",
        "outputId": "20e0b6d7-382e-4b9b-8170-f764e49eff02"
      },
      "execution_count": 59,
      "outputs": [
        {
          "output_type": "stream",
          "name": "stdout",
          "text": [
            "torch.Size([85, 1, 28, 28]) torch.Size([85]) torch.Size([85])\n"
          ]
        }
      ]
    },
    {
      "cell_type": "code",
      "source": [
        "plt.figure(figsize=(10, 5))\n",
        "\n",
        "# Plot the first 10 images\n",
        "for i in range(10):\n",
        "    plt.subplot(2, 5, i + 1)  # Create a 2x5 grid, 1-based index\n",
        "    plt.imshow(intelligible[i][0].cpu().numpy(), cmap='gray')  # Display the image\n",
        "    plt.title(f'Answer: {answers[i]} Predicted: {model_predictions[i]}')  # Show the label\n",
        "    plt.axis('off')  # Hide the axes\n",
        "\n",
        "# Show the plot\n",
        "plt.tight_layout()\n",
        "plt.show()"
      ],
      "metadata": {
        "colab": {
          "base_uri": "https://localhost:8080/",
          "height": 410
        },
        "id": "JcU_qS-j7H5Y",
        "outputId": "7f30a322-7822-43c6-c363-71ecb203eb69"
      },
      "execution_count": 60,
      "outputs": [
        {
          "output_type": "display_data",
          "data": {
            "text/plain": [
              "<Figure size 1000x500 with 10 Axes>"
            ],
            "image/png": "[encoded data removed]"
          },
          "metadata": {}
        }
      ]
    },
    {
      "cell_type": "code",
      "source": [
        "# build a checkpoint\n",
        "checkpoint = {\n",
        "    \"epoch\": epoch,\n",
        "    \"model_state_dict\": model.state_dict(),\n",
        "    \"optimizer_state_dict\": optimizer.state_dict(),\n",
        "    \"loss\": actual_loss,\n",
        "}\n",
        "torch.save(checkpoint, \"checkpoint.pth\")"
      ],
      "metadata": {
        "id": "--s-p1PsN86F"
      },
      "execution_count": null,
      "outputs": []
    },
    {
      "cell_type": "code",
      "source": [
        "loaded_checkpoint = torch.load(\"checkpoint.pth\")\n",
        "print(loaded_checkpoint.keys())"
      ],
      "metadata": {
        "colab": {
          "base_uri": "https://localhost:8080/"
        },
        "id": "omy1Nm_LRuFd",
        "outputId": "d3dce1ab-b0f3-4dfe-af1b-05b29951dea6"
      },
      "execution_count": null,
      "outputs": [
        {
          "output_type": "stream",
          "name": "stdout",
          "text": [
            "dict_keys(['epoch', 'model_state_dict', 'optimizer_state_dict', 'loss'])\n"
          ]
        },
        {
          "output_type": "stream",
          "name": "stderr",
          "text": [
            "<ipython-input-19-31e90998f733>:1: FutureWarning: You are using `torch.load` with `weights_only=False` (the current default value), which uses the default pickle module implicitly. It is possible to construct malicious pickle data which will execute arbitrary code during unpickling (See https://github.com/pytorch/pytorch/blob/main/SECURITY.md#untrusted-models for more details). In a future release, the default value for `weights_only` will be flipped to `True`. This limits the functions that could be executed during unpickling. Arbitrary objects will no longer be allowed to be loaded via this mode unless they are explicitly allowlisted by the user via `torch.serialization.add_safe_globals`. We recommend you start setting `weights_only=True` for any use case where you don't have full control of the loaded file. Please open an issue on GitHub for any issues related to this experimental feature.\n",
            "  loaded_checkpoint = torch.load(\"checkpoint.pth\")\n"
          ]
        }
      ]
    },
    {
      "cell_type": "code",
      "source": [
        "# train another model with the pre-existing model weights\n",
        "model2 = SimpleCNN()\n",
        "model2.load_state_dict(loaded_checkpoint['model_state_dict'])\n",
        "optimizer2 = optim.SGD(model2.parameters(), lr=0.01, momentum=0.9)\n",
        "optimizer2.load_state_dict(loaded_checkpoint['optimizer_state_dict'])\n",
        "epoch2 = loaded_checkpoint['epoch']\n",
        "\n",
        "for key in model2.state_dict():\n",
        "  if torch.all(model.state_dict()[key] == model2.state_dict()[key]):\n",
        "    print(f'{key} matches')\n",
        "  else:\n",
        "    print(f\"{key} doesn't match\")\n",
        "\n",
        "for epoch in range(epochs):\n",
        "  running_loss = 0.0\n",
        "  for images, labels in trainloader:\n",
        "    outputs = model2(images)\n",
        "    loss = criterion(outputs, labels)\n",
        "\n",
        "    optimizer2.zero_grad()\n",
        "    loss.backward()\n",
        "    optimizer2.step()\n",
        "\n",
        "    running_loss += loss.item()\n",
        "    actual_loss = running_loss/len(trainloader)\n",
        "\n",
        "  print(f'Epoch: {epoch+epoch2+1}, Loss: {actual_loss}')\n"
      ],
      "metadata": {
        "colab": {
          "base_uri": "https://localhost:8080/"
        },
        "id": "4Be8gS4aN9GY",
        "outputId": "e5e12642-dc5e-482e-f9f7-936190669d11"
      },
      "execution_count": null,
      "outputs": [
        {
          "output_type": "stream",
          "name": "stdout",
          "text": [
            "cnn1.weight matches\n",
            "cnn1.bias matches\n",
            "cnn2.weight matches\n",
            "cnn2.bias matches\n",
            "fc.weight matches\n",
            "fc.bias matches\n",
            "Epoch: 5, Loss: 0.06766068123791888\n",
            "Epoch: 6, Loss: 0.06310790288684494\n",
            "Epoch: 7, Loss: 0.05800674252685163\n",
            "Epoch: 8, Loss: 0.05589606323957308\n",
            "Epoch: 9, Loss: 0.05376157179060357\n"
          ]
        }
      ]
    },
    {
      "cell_type": "code",
      "source": [],
      "metadata": {
        "id": "bxFrFlzgN9J7"
      },
      "execution_count": null,
      "outputs": []
    }
  ]
}
