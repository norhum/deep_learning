{
  "nbformat": 4,
  "nbformat_minor": 0,
  "metadata": {
    "colab": {
      "provenance": [],
      "authorship_tag": "ABX9TyNy+EM/h6WOJIzN/L2d27IW",
      "include_colab_link": true
    },
    "kernelspec": {
      "name": "python3",
      "display_name": "Python 3"
    },
    "language_info": {
      "name": "python"
    }
  },
  "cells": [
    {
      "cell_type": "markdown",
      "metadata": {
        "id": "view-in-github",
        "colab_type": "text"
      },
      "source": [
        "<a href=\"https://colab.research.google.com/github/norhum/deep_learning/blob/main/wikipytorch.ipynb\" target=\"_parent\"><img src=\"https://colab.research.google.com/assets/colab-badge.svg\" alt=\"Open In Colab\"/></a>"
      ]
    },
    {
      "cell_type": "code",
      "execution_count": null,
      "metadata": {
        "colab": {
          "base_uri": "https://localhost:8080/"
        },
        "id": "KcPlNGguNPd-",
        "outputId": "0b385356-ceb4-4106-ced2-211d1b1dde70"
      },
      "outputs": [
        {
          "output_type": "stream",
          "name": "stdout",
          "text": [
            "Iter 0 :  31667.59765625\n",
            "Iter 100 :  0.22599251568317413\n",
            "Iter 200 :  0.22391095757484436\n",
            "Iter 300 :  0.22194059193134308\n",
            "Iter 400 :  0.2200593650341034\n",
            "Iter 500 :  0.21827054023742676\n",
            "Iter 600 :  0.21657471358776093\n",
            "Iter 700 :  0.21495017409324646\n",
            "Iter 800 :  0.21341314911842346\n",
            "Iter 900 :  0.21195237338542938\n"
          ]
        }
      ],
      "source": [
        "import torch\n",
        "import torch.nn as nn\n",
        "import torch.nn.functional as F\n",
        "\n",
        "torch.manual_seed(1)\n",
        "\n",
        "x_train = torch.tensor([[73, 80, 75], [93, 88, 93], [89, 91, 90], [96, 98, 100], [73, 66, 70]]).float() #(5, 3)\n",
        "y_train = torch.tensor([[152], [185], [180], [196], [142]]).float() #(5, 1)\n",
        "\n",
        "lr = 1e-5\n",
        "epoch = 1000\n",
        "\n",
        "class MVLRM(nn.Module):\n",
        "  def __init__(self, input_size, output_size):\n",
        "    super().__init__()\n",
        "    self.linear = nn.Linear(input_size, output_size)\n",
        "\n",
        "  def forward(self, x):\n",
        "    return self.linear(x)\n",
        "\n",
        "model = MVLRM(x_train.shape[1], y_train.shape[1])\n",
        "\n",
        "optimizer = torch.optim.SGD(model.parameters(), lr)\n",
        "\n",
        "for i in range(epoch):\n",
        "  output = model(x_train)\n",
        "  loss = F.mse_loss(output, y_train)\n",
        "\n",
        "  optimizer.zero_grad()\n",
        "  loss.backward()\n",
        "  optimizer.step()\n",
        "\n",
        "  if i % 100 == 0:\n",
        "    print(f'Iter {i} :  {loss.item()}')\n",
        "\n"
      ]
    },
    {
      "cell_type": "code",
      "source": [
        "import torch\n",
        "import torch.nn as nn\n",
        "import torch.nn.functional as F\n",
        "\n",
        "torch.manual_seed(1)\n",
        "\n",
        "x_data = torch.tensor([[1, 2], [2, 3], [3, 1], [4, 3], [5, 3], [6, 2]]).float()\n",
        "y_data = torch.tensor([[0], [0], [0], [1], [1], [1]]).float()\n",
        "\n",
        "model = nn.Sequential(\n",
        "    nn.Linear(x_data.shape[1], y_data.shape[1]),\n",
        "    nn.Sigmoid()\n",
        ")\n",
        "# could make a class like below\n",
        "class BinaryClassifier(nn.Module):\n",
        "  def __init__(self, input_size, output_size):\n",
        "    super().__init__()\n",
        "    self.linear = nn.Linear(input_size, output_size)\n",
        "    self.sigmoid = nn.Sigmoid()\n",
        "\n",
        "  def forward(self, x):\n",
        "    out = self.sigmoid(self.linear(x))\n",
        "    return out\n",
        "\n",
        "epoch = 100\n",
        "lr = 1e-1\n",
        "\n",
        "optimizer = torch.optim.AdamW(model.parameters(), lr)\n",
        "\n",
        "for i in range(epoch):\n",
        "  out = model(x_data)\n",
        "  # loss = F.binary_cross_entropy(out, y_data)\n",
        "  # loss = -(y_data * torch.log(out) + (1-y_data) * torch.log(1 - out)).mean()\n",
        "  loss = 0\n",
        "  for j in range(len(y_data)):\n",
        "    if y_data[j, 0] == 1:\n",
        "      loss += -torch.log(out[j, 0])\n",
        "    else:\n",
        "      loss += -torch.log(1-out[j, 0])\n",
        "  loss /= len(y_data)\n",
        "\n",
        "  optimizer.zero_grad()\n",
        "  loss.backward()\n",
        "  optimizer.step()\n",
        "\n",
        "  if i % 10 == 0:\n",
        "    print(loss.item())\n",
        "\n",
        "# from F.binary_cross_entropy function == loss which I derived from the wiki page == loss that I made from scratch\n",
        "# 0.5397130846977234\n",
        "# 0.41038432717323303\n",
        "# 0.3289487063884735\n",
        "# 0.2697530686855316\n",
        "# 0.22443558275699615\n",
        "# 0.1899040937423706\n",
        "# 0.1634930819272995\n",
        "# 0.14306499063968658\n",
        "# 0.1269247978925705\n",
        "# 0.11390752345323563\n",
        "\n",
        "print(list(model.parameters()))\n",
        "\n",
        "# 왜 BCE이 CE이랑 근본적으로 같은지 BinaryCE를 그냥 CE로 코딩으로 구현해보기"
      ],
      "metadata": {
        "colab": {
          "base_uri": "https://localhost:8080/"
        },
        "id": "6utqMrizHsdU",
        "outputId": "cccab3f1-0bc7-431a-b8eb-283b36fbcb28"
      },
      "execution_count": null,
      "outputs": [
        {
          "output_type": "stream",
          "name": "stdout",
          "text": [
            "0.5397131443023682\n",
            "0.41038432717323303\n",
            "0.3289487063884735\n",
            "0.2697530686855316\n",
            "0.22443561255931854\n",
            "0.1899040937423706\n",
            "0.1634930819272995\n",
            "0.14306500554084778\n",
            "0.12692482769489288\n",
            "0.11390754580497742\n",
            "[Parameter containing:\n",
            "tensor([[1.7394, 0.5980]], requires_grad=True), Parameter containing:\n",
            "tensor([-7.1584], requires_grad=True)]\n"
          ]
        }
      ]
    },
    {
      "cell_type": "code",
      "source": [
        "# MLP로 XOR 문제 풀기 (BCE가 아닌 CE로 풀었음)\n",
        "import torch\n",
        "import torch.nn as nn\n",
        "\n",
        "device = 'cuda' if torch.cuda.is_available() else 'cpu'\n",
        "\n",
        "torch.manual_seed(1)\n",
        "if device == 'cuda':\n",
        "  torch.cuda.manual_seed_all(1)\n",
        "\n",
        "X = torch.FloatTensor([[0, 0], [0, 1], [1, 0], [1, 1]]).to(device)\n",
        "Y = torch.Tensor([0, 1, 1, 0]).long().to(device)\n",
        "F = nn.ReLU()\n",
        "lr = 5e-2\n",
        "# 5e-1 doesn't work for ReLU and Tanh but does for Sigmoid. Why?\n",
        "\n",
        "model = nn.Sequential(\n",
        "    nn.Linear(2, 10), F,\n",
        "    nn.Linear(10, 10), F,\n",
        "    nn.Linear(10, 10), F,\n",
        "    nn.Linear(10, 2), F\n",
        ").to(device)\n",
        "\n",
        "function = nn.CrossEntropyLoss().to(device)\n",
        "optimizer = torch.optim.AdamW(model.parameters(), lr)\n",
        "\n",
        "for i in range(1000):\n",
        "  loss = function(model(X), Y)\n",
        "  optimizer.zero_grad()\n",
        "  loss.backward()\n",
        "  optimizer.step()\n",
        "\n",
        "  if i % 100 == 0:\n",
        "    print(loss.item())\n",
        "\n",
        "with torch.no_grad():\n",
        "  test = model(X)\n",
        "  print(Y, test)\n",
        "  a = torch.tensor([test[i,Y[i]] for i in range(len(Y))])\n",
        "  b = a > 0.5\n",
        "  accuracy = b.float().mean()\n",
        "  print(accuracy)"
      ],
      "metadata": {
        "colab": {
          "base_uri": "https://localhost:8080/"
        },
        "id": "FYLNyroeryTw",
        "outputId": "64720a02-463e-45a2-c9fb-dbd48f383e07"
      },
      "execution_count": null,
      "outputs": [
        {
          "output_type": "stream",
          "name": "stdout",
          "text": [
            "0.6920334696769714\n",
            "0.0\n",
            "5.9604641222676946e-08\n",
            "2.086161714487389e-07\n",
            "6.854524485788716e-07\n",
            "1.966946229003952e-06\n",
            "1.4901158351676713e-07\n",
            "0.0\n",
            "0.0\n",
            "2.9802320611338473e-08\n",
            "tensor([0, 1, 1, 0]) tensor([[16.6574,  0.0000],\n",
            "        [ 0.0000, 16.6624],\n",
            "        [ 0.0000, 16.7689],\n",
            "        [16.6715,  0.0000]])\n",
            "tensor(1.)\n"
          ]
        }
      ]
    },
    {
      "cell_type": "code",
      "source": [
        "import torch\n",
        "import torch.nn as nn\n",
        "import csv\n",
        "\n",
        "device = 'cuda' if torch.cuda.is_available() else 'cpu'\n",
        "\n",
        "torch.manual_seed(1)\n",
        "\n",
        "class CNN(nn.Module):\n",
        "   def __init__(self):\n",
        "    super().__init__()\n",
        "    self.layer1 = nn.Sequential(\n",
        "        nn.Conv2d()\n",
        "    )\n",
        "\n",
        "data = []\n",
        "\n",
        "file = open('/content/sample_data/mnist_train_small.csv')\n",
        "filereader = csv.reader(file)\n",
        "for i in filereader:\n",
        "  data.append(i)\n",
        "\n",
        "# data = torch.tensor(data)\n",
        "# data.shape\n",
        "data = list(map(int, data))\n",
        "type(data)"
      ],
      "metadata": {
        "colab": {
          "base_uri": "https://localhost:8080/",
          "height": 220
        },
        "id": "toDiJA-t6-5h",
        "outputId": "6a700df1-d208-4b56-9ab3-f5a70b280352"
      },
      "execution_count": null,
      "outputs": [
        {
          "output_type": "error",
          "ename": "TypeError",
          "evalue": "ignored",
          "traceback": [
            "\u001b[0;31m---------------------------------------------------------------------------\u001b[0m",
            "\u001b[0;31mTypeError\u001b[0m                                 Traceback (most recent call last)",
            "\u001b[0;32m<ipython-input-14-6b78af0324ee>\u001b[0m in \u001b[0;36m<cell line: 25>\u001b[0;34m()\u001b[0m\n\u001b[1;32m     23\u001b[0m \u001b[0;31m# data = torch.tensor(data)\u001b[0m\u001b[0;34m\u001b[0m\u001b[0;34m\u001b[0m\u001b[0m\n\u001b[1;32m     24\u001b[0m \u001b[0;31m# data.shape\u001b[0m\u001b[0;34m\u001b[0m\u001b[0;34m\u001b[0m\u001b[0m\n\u001b[0;32m---> 25\u001b[0;31m \u001b[0mdata\u001b[0m \u001b[0;34m=\u001b[0m \u001b[0mlist\u001b[0m\u001b[0;34m(\u001b[0m\u001b[0mmap\u001b[0m\u001b[0;34m(\u001b[0m\u001b[0mint\u001b[0m\u001b[0;34m,\u001b[0m \u001b[0mdata\u001b[0m\u001b[0;34m)\u001b[0m\u001b[0;34m)\u001b[0m\u001b[0;34m\u001b[0m\u001b[0;34m\u001b[0m\u001b[0m\n\u001b[0m\u001b[1;32m     26\u001b[0m \u001b[0mtype\u001b[0m\u001b[0;34m(\u001b[0m\u001b[0mdata\u001b[0m\u001b[0;34m)\u001b[0m\u001b[0;34m\u001b[0m\u001b[0;34m\u001b[0m\u001b[0m\n",
            "\u001b[0;31mTypeError\u001b[0m: int() argument must be a string, a bytes-like object or a real number, not 'list'"
          ]
        }
      ]
    }
  ]
}