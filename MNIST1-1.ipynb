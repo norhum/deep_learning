{
  "nbformat": 4,
  "nbformat_minor": 0,
  "metadata": {
    "colab": {
      "provenance": [],
      "authorship_tag": "ABX9TyO81f2+0ZAOqXl63ZqjLEmg",
      "include_colab_link": true
    },
    "kernelspec": {
      "name": "python3",
      "display_name": "Python 3"
    },
    "language_info": {
      "name": "python"
    }
  },
  "cells": [
    {
      "cell_type": "markdown",
      "metadata": {
        "id": "view-in-github",
        "colab_type": "text"
      },
      "source": [
        "<a href=\"https://colab.research.google.com/github/norhum/deep_learning/blob/main/MNIST1-1.ipynb\" target=\"_parent\"><img src=\"https://colab.research.google.com/assets/colab-badge.svg\" alt=\"Open In Colab\"/></a>"
      ]
    },
    {
      "cell_type": "code",
      "execution_count": 7,
      "metadata": {
        "id": "nL_Sc7qemGyJ"
      },
      "outputs": [],
      "source": [
        "import torch\n",
        "import torch.nn as nn\n",
        "import torch.optim as optim\n",
        "import torch.nn.functional as F\n",
        "\n",
        "import torchvision\n",
        "import torchvision.transforms as transforms"
      ]
    },
    {
      "cell_type": "code",
      "source": [
        "transform = transforms.Compose([transforms.ToTensor(), transforms.Normalize((0.1307,), (0.3081,))])\n",
        "\n",
        "trainset = torchvision.datasets.MNIST(root='./data', train=True, download=True, transform=transform)\n",
        "trainloader = torch.utils.data.DataLoader(trainset, batch_size=64, shuffle=True, drop_last=True)\n",
        "\n",
        "testset = torchvision.datasets.MNIST(root='./data', train=False, download=True, transform=transform)\n",
        "testloader = torch.utils.data.DataLoader(testset, batch_size=64, shuffle=False, drop_last=True)"
      ],
      "metadata": {
        "id": "iAcXrupQmjMz"
      },
      "execution_count": 8,
      "outputs": []
    },
    {
      "cell_type": "code",
      "source": [
        "class SimpleNN(nn.Module):\n",
        "  def __init__(self):\n",
        "    super().__init__()\n",
        "    self.ff1 = nn.Linear(28*28, 256)\n",
        "    self.ff2 = nn.Linear(256, 10)\n",
        "\n",
        "  def forward(self, x):\n",
        "    x = x.view(-1, 28*28)\n",
        "    x = torch.relu(self.ff1(x))\n",
        "    x = self.ff2(x)\n",
        "    return x\n",
        "\n",
        "class SimpleCNN(nn.Module):\n",
        "  def __init__(self):\n",
        "    super().__init__()\n",
        "    self.cnn1 = nn.Conv2d(1, 3, (3,3), padding=1) #batch,3,28,28\n",
        "    self.pool = nn.MaxPool2d(kernel_size=2, stride=2) #batch,3,14,14\n",
        "    self.cnn2 = nn.Conv2d(3, 5, (3,3), padding=1) #batch,5,14,14\n",
        "    self.fc = nn.Linear(5*14*14, 10) #batch, 10\n",
        "\n",
        "  def forward(self, x):\n",
        "    x = self.pool(F.relu(self.cnn1(x)))\n",
        "    x = F.relu(self.cnn2(x))\n",
        "    x = x.view(-1, 5*14*14)\n",
        "    x = self.fc(x)\n",
        "    return x"
      ],
      "metadata": {
        "id": "2ugdwmsLmjft"
      },
      "execution_count": 11,
      "outputs": []
    },
    {
      "cell_type": "code",
      "source": [
        "model = SimpleCNN()\n",
        "criterion = nn.CrossEntropyLoss()\n",
        "optimizer = optim.SGD(model.parameters(), lr=0.01, momentum=0.9)"
      ],
      "metadata": {
        "id": "-dI-C-XumjjJ"
      },
      "execution_count": 12,
      "outputs": []
    },
    {
      "cell_type": "code",
      "source": [
        "epochs = 5\n",
        "for epoch in range(epochs):\n",
        "  running_loss = 0.0\n",
        "  for images, labels in trainloader:\n",
        "    outputs = model(images)\n",
        "    loss = criterion(outputs, labels)\n",
        "\n",
        "    optimizer.zero_grad()\n",
        "    loss.backward()\n",
        "    optimizer.step()\n",
        "\n",
        "    running_loss += loss.item()\n",
        "\n",
        "  print(f'Epoch: {epoch+1}, Loss: {running_loss/len(trainloader)}')"
      ],
      "metadata": {
        "colab": {
          "base_uri": "https://localhost:8080/"
        },
        "id": "064zmztyoctC",
        "outputId": "f9a82b28-7d72-4626-f04e-dffa59470720"
      },
      "execution_count": 13,
      "outputs": [
        {
          "output_type": "stream",
          "name": "stdout",
          "text": [
            "Epoch: 1, Loss: 0.22166918787763334\n",
            "Epoch: 2, Loss: 0.08554699766725946\n",
            "Epoch: 3, Loss: 0.06966688164997858\n",
            "Epoch: 4, Loss: 0.060030563491701744\n",
            "Epoch: 5, Loss: 0.053979521313644425\n"
          ]
        }
      ]
    },
    {
      "cell_type": "code",
      "source": [
        "correct = 0\n",
        "total = 0\n",
        "with torch.no_grad():\n",
        "  for images, labels in testloader:\n",
        "    outputs = model(images)\n",
        "    _, indices = torch.max(outputs, dim=1)\n",
        "    correct += (indices == labels).sum().item()\n",
        "    total += labels.shape[0]\n",
        "\n",
        "print(f'test data accuracy: {correct/total:.4f}')"
      ],
      "metadata": {
        "colab": {
          "base_uri": "https://localhost:8080/"
        },
        "id": "YcMVMxz6sqm7",
        "outputId": "c5d1e4a8-b0b5-4246-aee1-734a57b172be"
      },
      "execution_count": 14,
      "outputs": [
        {
          "output_type": "stream",
          "name": "stdout",
          "text": [
            "test data accuracy: 0.9804\n"
          ]
        }
      ]
    },
    {
      "cell_type": "code",
      "source": [
        "import matplotlib.pyplot as plt\n",
        "\n",
        "intelligible = []\n",
        "answers = []\n",
        "model_predictions = []\n",
        "\n",
        "with torch.no_grad():\n",
        "  for images, labels in testloader:\n",
        "    outputs = model(images)\n",
        "    _, indices = torch.max(outputs, dim=1)\n",
        "    incorrect = labels != indices\n",
        "\n",
        "    if sum(incorrect) != 0:\n",
        "      answer = labels[incorrect]\n",
        "      model_prediction = indices[incorrect]\n",
        "\n",
        "      answers.append(answer)\n",
        "      model_predictions.append(model_prediction)\n",
        "      intelligible.append(images[incorrect])\n",
        "\n",
        "intelligible = torch.cat(intelligible)\n",
        "answers = torch.cat(answers)\n",
        "model_predictions = torch.cat(model_predictions)\n",
        "\n",
        "print(intelligible.shape, answers.shape, model_predictions.shape)"
      ],
      "metadata": {
        "colab": {
          "base_uri": "https://localhost:8080/"
        },
        "id": "N9aM9Ov_37Et",
        "outputId": "5455c206-19f7-42cc-e294-bcad281f0dfa"
      },
      "execution_count": 43,
      "outputs": [
        {
          "output_type": "stream",
          "name": "stdout",
          "text": [
            "torch.Size([196, 1, 28, 28]) torch.Size([196]) torch.Size([196])\n"
          ]
        }
      ]
    },
    {
      "cell_type": "code",
      "source": [
        "plt.figure(figsize=(10, 5))\n",
        "\n",
        "# Plot the first 10 images\n",
        "for i in range(10):\n",
        "    plt.subplot(2, 5, i + 1)  # Create a 2x5 grid, 1-based index\n",
        "    plt.imshow(intelligible[i][0], cmap='gray')  # Display the image\n",
        "    plt.title(f'Answer: {answers[i]} Predicted: {model_predictions[i]}')  # Show the label\n",
        "    plt.axis('off')  # Hide the axes\n",
        "\n",
        "# Show the plot\n",
        "plt.tight_layout()\n",
        "plt.show()"
      ],
      "metadata": {
        "colab": {
          "base_uri": "https://localhost:8080/",
          "height": 473
        },
        "id": "JcU_qS-j7H5Y",
        "outputId": "f8300264-27c4-4c0e-9086-b5df77f2013c"
      },
      "execution_count": 45,
      "outputs": [
        {
          "output_type": "display_data",
          "data": {
            "text/plain": [
              "<Figure size 1000x500 with 10 Axes>"
            ],
            "image/png": "[encoded data removed]"
          },
          "metadata": {}
        }
      ]
    }
  ]
}