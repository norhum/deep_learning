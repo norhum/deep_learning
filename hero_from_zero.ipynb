{
  "nbformat": 4,
  "nbformat_minor": 0,
  "metadata": {
    "colab": {
      "provenance": [],
      "authorship_tag": "ABX9TyNW7Sukg7QS+Wia+H8lCAj2",
      "include_colab_link": true
    },
    "kernelspec": {
      "name": "python3",
      "display_name": "Python 3"
    },
    "language_info": {
      "name": "python"
    }
  },
  "cells": [
    {
      "cell_type": "markdown",
      "metadata": {
        "id": "view-in-github",
        "colab_type": "text"
      },
      "source": [
        "<a href=\"https://colab.research.google.com/github/norhum/deep_learning/blob/main/hero_from_zero.ipynb\" target=\"_parent\"><img src=\"https://colab.research.google.com/assets/colab-badge.svg\" alt=\"Open In Colab\"/></a>"
      ]
    },
    {
      "cell_type": "code",
      "source": [
        "# Linear Regression Model (Day 1): Start with a basic linear regression model to predict a continuous value. It's simple and helps with foundational concepts.\n",
        "\n",
        "# Logistic Regression (Day 2): Try binary classification, such as spam email detection, to understand classification problems.\n",
        "\n",
        "# Feedforward Neural Network (Day 3): Build a simple fully connected neural network for something like digit recognition (MNIST dataset).\n",
        "\n",
        "# Decision Trees (Day 4): Train a decision tree for classification tasks, like predicting customer churn or classifying flowers (Iris dataset).\n",
        "\n",
        "# Convolutional Neural Network (CNN) (Day 5): Build a small CNN to classify images, such as handwritten digits (MNIST or CIFAR-10 dataset).\n",
        "\n",
        "# Recurrent Neural Network (RNN) (Day 6): For a light NLP project, you could try a basic RNN for text generation or sentiment analysis on a small dataset.\n",
        "\n",
        "# Autoencoder (Day 7): Create an autoencoder for dimensionality reduction or image noise removal."
      ],
      "metadata": {
        "id": "2d0gaA8g9iKb"
      },
      "execution_count": null,
      "outputs": []
    },
    {
      "cell_type": "code",
      "execution_count": 10,
      "metadata": {
        "colab": {
          "base_uri": "https://localhost:8080/"
        },
        "id": "6ZY5oO2z9WI1",
        "outputId": "97f80c75-2cea-4754-a63d-166dc5e01ba1"
      },
      "outputs": [
        {
          "output_type": "execute_result",
          "data": {
            "text/plain": [
              "(tensor([[-0.0412],\n",
              "         [ 0.0568],\n",
              "         [ 1.4272],\n",
              "         [-1.4646],\n",
              "         [ 0.2362]]),\n",
              " tensor([[4.2682],\n",
              "         [1.3415],\n",
              "         [7.1484],\n",
              "         [2.1099],\n",
              "         [5.0105]]))"
            ]
          },
          "metadata": {},
          "execution_count": 10
        }
      ],
      "source": [
        "# Linear regression model\n",
        "import torch\n",
        "import torch.nn as nn\n",
        "import torch.optim as optim\n",
        "\n",
        "x = torch.randn(100,1)\n",
        "noise = torch.randn(100,1)\n",
        "\n",
        "y = 2*x + 3 + noise\n",
        "\n",
        "x[:5], y[:5]"
      ]
    },
    {
      "cell_type": "code",
      "source": [
        "class LinearRegressionModel(nn.Module):\n",
        "  def __init__(self):\n",
        "    super().__init__()\n",
        "    self.linear = nn.Linear(1,1)\n",
        "    # self.weight = nn.parameter(torch.randn(1))\n",
        "    # self.bias = nn.parameter(torch.randn(1))\n",
        "\n",
        "  def forward(self, x):\n",
        "    #return self.weight * x + self.bias\n",
        "    return self.linear(x)\n",
        "\n",
        "model = LinearRegressionModel()"
      ],
      "metadata": {
        "id": "NpcmHSZX_c9t"
      },
      "execution_count": 11,
      "outputs": []
    },
    {
      "cell_type": "code",
      "source": [
        "loss_fn = nn.MSELoss()\n",
        "optimizer = optim.SGD(model.parameters(), lr=0.01)\n",
        "\n",
        "epochs = 100\n",
        "for epoch in range(epochs):\n",
        "  y_pred = model(x)\n",
        "  loss = loss_fn(y_pred, y)\n",
        "\n",
        "  optimizer.zero_grad()\n",
        "  loss.backward()\n",
        "  optimizer.step()\n",
        "\n",
        "  if (epoch+1) % 10 == 0:\n",
        "    print(f'epoch: {epoch+1}, loss: {loss.item()}')"
      ],
      "metadata": {
        "colab": {
          "base_uri": "https://localhost:8080/"
        },
        "id": "_iH8ooyE_dAT",
        "outputId": "1c04971b-c92b-4bf4-b023-324077aa3488"
      },
      "execution_count": 12,
      "outputs": [
        {
          "output_type": "stream",
          "name": "stdout",
          "text": [
            "epoch: 10, loss: 6.726436138153076\n",
            "epoch: 20, loss: 4.5603203773498535\n",
            "epoch: 30, loss: 3.2064619064331055\n",
            "epoch: 40, loss: 2.358696937561035\n",
            "epoch: 50, loss: 1.8267982006072998\n",
            "epoch: 60, loss: 1.4923927783966064\n",
            "epoch: 70, loss: 1.2817018032073975\n",
            "epoch: 80, loss: 1.1486618518829346\n",
            "epoch: 90, loss: 1.0644612312316895\n",
            "epoch: 100, loss: 1.0110456943511963\n"
          ]
        }
      ]
    },
    {
      "cell_type": "code",
      "source": [
        "import matplotlib.pyplot as plt\n",
        "\n",
        "predicted = model(x).detach().numpy()\n",
        "\n",
        "plt.scatter(x.numpy(), y.numpy(), label='actual data', alpha=0.5)\n",
        "plt.plot(x.numpy(), predicted, label='linear fit', color='red')\n",
        "plt.title('Linear Regression Fit')\n",
        "plt.xlabel('x')\n",
        "plt.ylabel('y')\n",
        "plt.legend()\n",
        "plt.show()"
      ],
      "metadata": {
        "colab": {
          "base_uri": "https://localhost:8080/",
          "height": 472
        },
        "id": "_-rOl60l_dFj",
        "outputId": "53427f73-9e9f-4f2f-fa87-48db0502a3f1"
      },
      "execution_count": 15,
      "outputs": [
        {
          "output_type": "display_data",
          "data": {
            "text/plain": [
              "<Figure size 640x480 with 1 Axes>"
            ],
            "image/png": "[encoded data removed]"
          },
          "metadata": {}
        }
      ]
    },
    {
      "cell_type": "code",
      "source": [
        "#multiple linear regression, polynomial regression visualization"
      ],
      "metadata": {
        "id": "W4m1o7JS_dC_"
      },
      "execution_count": null,
      "outputs": []
    },
    {
      "cell_type": "code",
      "source": [],
      "metadata": {
        "id": "JaQCU1lG_dJF"
      },
      "execution_count": null,
      "outputs": []
    }
  ]
}